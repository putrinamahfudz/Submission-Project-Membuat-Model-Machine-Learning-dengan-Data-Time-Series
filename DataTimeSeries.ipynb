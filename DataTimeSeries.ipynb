{
  "nbformat": 4,
  "nbformat_minor": 0,
  "metadata": {
    "colab": {
      "provenance": [],
      "collapsed_sections": []
    },
    "kernelspec": {
      "name": "python3",
      "display_name": "Python 3"
    },
    "language_info": {
      "name": "python"
    }
  },
  "cells": [
    {
      "cell_type": "markdown",
      "source": [
        "## **PUTRI NUR AINI MAHFUDZ (M203Y0411)**\n",
        "\n",
        "## **Membuat Model Machine Learning dengan Data Time Series**\n",
        "\n",
        "---\n",
        "\n"
      ],
      "metadata": {
        "id": "e2IV40vX44FZ"
      }
    },
    {
      "cell_type": "markdown",
      "source": [
        "## Berikut ini Proyek Kedua : Membuat Model Machine Learning dengan Data Time Series yang saya kerjakan dengan memenuhi kriteria submission yang ada.\n",
        "\n",
        "Dataset didapatkan dari : https://www.kaggle.com/datasets/grubenm/austin-weather"
      ],
      "metadata": {
        "id": "ZpJBaobZ5h-2"
      }
    },
    {
      "cell_type": "markdown",
      "source": [
        "## Steps:"
      ],
      "metadata": {
        "id": "0Cjz1PrE6PBw"
      }
    },
    {
      "cell_type": "markdown",
      "source": [
        "### 1. Impor library"
      ],
      "metadata": {
        "id": "3Q1i9JHP6khm"
      }
    },
    {
      "cell_type": "code",
      "execution_count": 10,
      "metadata": {
        "id": "3oC_rH6y2WYQ"
      },
      "outputs": [],
      "source": [
        "import numpy as np\n",
        "import pandas as pd\n",
        "from keras.layers import Dense, LSTM\n",
        "import matplotlib.pyplot as plt\n",
        "import tensorflow as tf"
      ]
    },
    {
      "cell_type": "markdown",
      "source": [
        "### 2. Ubah dataset menjadi dataframe, lalu panggil fungsi head() untuk menampilkan sampel teratas pada dataset"
      ],
      "metadata": {
        "id": "Nnf1apdZ60xE"
      }
    },
    {
      "cell_type": "code",
      "source": [
        "data_train = pd.read_csv('austin_weather.csv')\n",
        "data_train.head()"
      ],
      "metadata": {
        "colab": {
          "base_uri": "https://localhost:8080/",
          "height": 386
        },
        "id": "PNaDEA3s29vo",
        "outputId": "d485f4ee-37fd-4333-e456-2e20984b9678"
      },
      "execution_count": 11,
      "outputs": [
        {
          "output_type": "execute_result",
          "data": {
            "text/plain": [
              "         Date  TempHighF  TempAvgF  TempLowF DewPointHighF DewPointAvgF  \\\n",
              "0  2013-12-21         74        60        45            67           49   \n",
              "1  2013-12-22         56        48        39            43           36   \n",
              "2  2013-12-23         58        45        32            31           27   \n",
              "3  2013-12-24         61        46        31            36           28   \n",
              "4  2013-12-25         58        50        41            44           40   \n",
              "\n",
              "  DewPointLowF HumidityHighPercent HumidityAvgPercent HumidityLowPercent  ...  \\\n",
              "0           43                  93                 75                 57  ...   \n",
              "1           28                  93                 68                 43  ...   \n",
              "2           23                  76                 52                 27  ...   \n",
              "3           21                  89                 56                 22  ...   \n",
              "4           36                  86                 71                 56  ...   \n",
              "\n",
              "  SeaLevelPressureAvgInches SeaLevelPressureLowInches VisibilityHighMiles  \\\n",
              "0                     29.68                     29.59                  10   \n",
              "1                     30.13                     29.87                  10   \n",
              "2                     30.49                     30.41                  10   \n",
              "3                     30.45                      30.3                  10   \n",
              "4                     30.33                     30.27                  10   \n",
              "\n",
              "  VisibilityAvgMiles VisibilityLowMiles WindHighMPH WindAvgMPH WindGustMPH  \\\n",
              "0                  7                  2          20          4          31   \n",
              "1                 10                  5          16          6          25   \n",
              "2                 10                 10           8          3          12   \n",
              "3                 10                  7          12          4          20   \n",
              "4                 10                  7          10          2          16   \n",
              "\n",
              "  PrecipitationSumInches               Events  \n",
              "0                   0.46  Rain , Thunderstorm  \n",
              "1                      0                       \n",
              "2                      0                       \n",
              "3                      0                       \n",
              "4                      T                       \n",
              "\n",
              "[5 rows x 21 columns]"
            ],
            "text/html": [
              "\n",
              "  <div id=\"df-85ad1020-d89b-4d81-9e39-811a05159cec\">\n",
              "    <div class=\"colab-df-container\">\n",
              "      <div>\n",
              "<style scoped>\n",
              "    .dataframe tbody tr th:only-of-type {\n",
              "        vertical-align: middle;\n",
              "    }\n",
              "\n",
              "    .dataframe tbody tr th {\n",
              "        vertical-align: top;\n",
              "    }\n",
              "\n",
              "    .dataframe thead th {\n",
              "        text-align: right;\n",
              "    }\n",
              "</style>\n",
              "<table border=\"1\" class=\"dataframe\">\n",
              "  <thead>\n",
              "    <tr style=\"text-align: right;\">\n",
              "      <th></th>\n",
              "      <th>Date</th>\n",
              "      <th>TempHighF</th>\n",
              "      <th>TempAvgF</th>\n",
              "      <th>TempLowF</th>\n",
              "      <th>DewPointHighF</th>\n",
              "      <th>DewPointAvgF</th>\n",
              "      <th>DewPointLowF</th>\n",
              "      <th>HumidityHighPercent</th>\n",
              "      <th>HumidityAvgPercent</th>\n",
              "      <th>HumidityLowPercent</th>\n",
              "      <th>...</th>\n",
              "      <th>SeaLevelPressureAvgInches</th>\n",
              "      <th>SeaLevelPressureLowInches</th>\n",
              "      <th>VisibilityHighMiles</th>\n",
              "      <th>VisibilityAvgMiles</th>\n",
              "      <th>VisibilityLowMiles</th>\n",
              "      <th>WindHighMPH</th>\n",
              "      <th>WindAvgMPH</th>\n",
              "      <th>WindGustMPH</th>\n",
              "      <th>PrecipitationSumInches</th>\n",
              "      <th>Events</th>\n",
              "    </tr>\n",
              "  </thead>\n",
              "  <tbody>\n",
              "    <tr>\n",
              "      <th>0</th>\n",
              "      <td>2013-12-21</td>\n",
              "      <td>74</td>\n",
              "      <td>60</td>\n",
              "      <td>45</td>\n",
              "      <td>67</td>\n",
              "      <td>49</td>\n",
              "      <td>43</td>\n",
              "      <td>93</td>\n",
              "      <td>75</td>\n",
              "      <td>57</td>\n",
              "      <td>...</td>\n",
              "      <td>29.68</td>\n",
              "      <td>29.59</td>\n",
              "      <td>10</td>\n",
              "      <td>7</td>\n",
              "      <td>2</td>\n",
              "      <td>20</td>\n",
              "      <td>4</td>\n",
              "      <td>31</td>\n",
              "      <td>0.46</td>\n",
              "      <td>Rain , Thunderstorm</td>\n",
              "    </tr>\n",
              "    <tr>\n",
              "      <th>1</th>\n",
              "      <td>2013-12-22</td>\n",
              "      <td>56</td>\n",
              "      <td>48</td>\n",
              "      <td>39</td>\n",
              "      <td>43</td>\n",
              "      <td>36</td>\n",
              "      <td>28</td>\n",
              "      <td>93</td>\n",
              "      <td>68</td>\n",
              "      <td>43</td>\n",
              "      <td>...</td>\n",
              "      <td>30.13</td>\n",
              "      <td>29.87</td>\n",
              "      <td>10</td>\n",
              "      <td>10</td>\n",
              "      <td>5</td>\n",
              "      <td>16</td>\n",
              "      <td>6</td>\n",
              "      <td>25</td>\n",
              "      <td>0</td>\n",
              "      <td></td>\n",
              "    </tr>\n",
              "    <tr>\n",
              "      <th>2</th>\n",
              "      <td>2013-12-23</td>\n",
              "      <td>58</td>\n",
              "      <td>45</td>\n",
              "      <td>32</td>\n",
              "      <td>31</td>\n",
              "      <td>27</td>\n",
              "      <td>23</td>\n",
              "      <td>76</td>\n",
              "      <td>52</td>\n",
              "      <td>27</td>\n",
              "      <td>...</td>\n",
              "      <td>30.49</td>\n",
              "      <td>30.41</td>\n",
              "      <td>10</td>\n",
              "      <td>10</td>\n",
              "      <td>10</td>\n",
              "      <td>8</td>\n",
              "      <td>3</td>\n",
              "      <td>12</td>\n",
              "      <td>0</td>\n",
              "      <td></td>\n",
              "    </tr>\n",
              "    <tr>\n",
              "      <th>3</th>\n",
              "      <td>2013-12-24</td>\n",
              "      <td>61</td>\n",
              "      <td>46</td>\n",
              "      <td>31</td>\n",
              "      <td>36</td>\n",
              "      <td>28</td>\n",
              "      <td>21</td>\n",
              "      <td>89</td>\n",
              "      <td>56</td>\n",
              "      <td>22</td>\n",
              "      <td>...</td>\n",
              "      <td>30.45</td>\n",
              "      <td>30.3</td>\n",
              "      <td>10</td>\n",
              "      <td>10</td>\n",
              "      <td>7</td>\n",
              "      <td>12</td>\n",
              "      <td>4</td>\n",
              "      <td>20</td>\n",
              "      <td>0</td>\n",
              "      <td></td>\n",
              "    </tr>\n",
              "    <tr>\n",
              "      <th>4</th>\n",
              "      <td>2013-12-25</td>\n",
              "      <td>58</td>\n",
              "      <td>50</td>\n",
              "      <td>41</td>\n",
              "      <td>44</td>\n",
              "      <td>40</td>\n",
              "      <td>36</td>\n",
              "      <td>86</td>\n",
              "      <td>71</td>\n",
              "      <td>56</td>\n",
              "      <td>...</td>\n",
              "      <td>30.33</td>\n",
              "      <td>30.27</td>\n",
              "      <td>10</td>\n",
              "      <td>10</td>\n",
              "      <td>7</td>\n",
              "      <td>10</td>\n",
              "      <td>2</td>\n",
              "      <td>16</td>\n",
              "      <td>T</td>\n",
              "      <td></td>\n",
              "    </tr>\n",
              "  </tbody>\n",
              "</table>\n",
              "<p>5 rows × 21 columns</p>\n",
              "</div>\n",
              "      <button class=\"colab-df-convert\" onclick=\"convertToInteractive('df-85ad1020-d89b-4d81-9e39-811a05159cec')\"\n",
              "              title=\"Convert this dataframe to an interactive table.\"\n",
              "              style=\"display:none;\">\n",
              "        \n",
              "  <svg xmlns=\"http://www.w3.org/2000/svg\" height=\"24px\"viewBox=\"0 0 24 24\"\n",
              "       width=\"24px\">\n",
              "    <path d=\"M0 0h24v24H0V0z\" fill=\"none\"/>\n",
              "    <path d=\"M18.56 5.44l.94 2.06.94-2.06 2.06-.94-2.06-.94-.94-2.06-.94 2.06-2.06.94zm-11 1L8.5 8.5l.94-2.06 2.06-.94-2.06-.94L8.5 2.5l-.94 2.06-2.06.94zm10 10l.94 2.06.94-2.06 2.06-.94-2.06-.94-.94-2.06-.94 2.06-2.06.94z\"/><path d=\"M17.41 7.96l-1.37-1.37c-.4-.4-.92-.59-1.43-.59-.52 0-1.04.2-1.43.59L10.3 9.45l-7.72 7.72c-.78.78-.78 2.05 0 2.83L4 21.41c.39.39.9.59 1.41.59.51 0 1.02-.2 1.41-.59l7.78-7.78 2.81-2.81c.8-.78.8-2.07 0-2.86zM5.41 20L4 18.59l7.72-7.72 1.47 1.35L5.41 20z\"/>\n",
              "  </svg>\n",
              "      </button>\n",
              "      \n",
              "  <style>\n",
              "    .colab-df-container {\n",
              "      display:flex;\n",
              "      flex-wrap:wrap;\n",
              "      gap: 12px;\n",
              "    }\n",
              "\n",
              "    .colab-df-convert {\n",
              "      background-color: #E8F0FE;\n",
              "      border: none;\n",
              "      border-radius: 50%;\n",
              "      cursor: pointer;\n",
              "      display: none;\n",
              "      fill: #1967D2;\n",
              "      height: 32px;\n",
              "      padding: 0 0 0 0;\n",
              "      width: 32px;\n",
              "    }\n",
              "\n",
              "    .colab-df-convert:hover {\n",
              "      background-color: #E2EBFA;\n",
              "      box-shadow: 0px 1px 2px rgba(60, 64, 67, 0.3), 0px 1px 3px 1px rgba(60, 64, 67, 0.15);\n",
              "      fill: #174EA6;\n",
              "    }\n",
              "\n",
              "    [theme=dark] .colab-df-convert {\n",
              "      background-color: #3B4455;\n",
              "      fill: #D2E3FC;\n",
              "    }\n",
              "\n",
              "    [theme=dark] .colab-df-convert:hover {\n",
              "      background-color: #434B5C;\n",
              "      box-shadow: 0px 1px 3px 1px rgba(0, 0, 0, 0.15);\n",
              "      filter: drop-shadow(0px 1px 2px rgba(0, 0, 0, 0.3));\n",
              "      fill: #FFFFFF;\n",
              "    }\n",
              "  </style>\n",
              "\n",
              "      <script>\n",
              "        const buttonEl =\n",
              "          document.querySelector('#df-85ad1020-d89b-4d81-9e39-811a05159cec button.colab-df-convert');\n",
              "        buttonEl.style.display =\n",
              "          google.colab.kernel.accessAllowed ? 'block' : 'none';\n",
              "\n",
              "        async function convertToInteractive(key) {\n",
              "          const element = document.querySelector('#df-85ad1020-d89b-4d81-9e39-811a05159cec');\n",
              "          const dataTable =\n",
              "            await google.colab.kernel.invokeFunction('convertToInteractive',\n",
              "                                                     [key], {});\n",
              "          if (!dataTable) return;\n",
              "\n",
              "          const docLinkHtml = 'Like what you see? Visit the ' +\n",
              "            '<a target=\"_blank\" href=https://colab.research.google.com/notebooks/data_table.ipynb>data table notebook</a>'\n",
              "            + ' to learn more about interactive tables.';\n",
              "          element.innerHTML = '';\n",
              "          dataTable['output_type'] = 'display_data';\n",
              "          await google.colab.output.renderOutput(dataTable, element);\n",
              "          const docLink = document.createElement('div');\n",
              "          docLink.innerHTML = docLinkHtml;\n",
              "          element.appendChild(docLink);\n",
              "        }\n",
              "      </script>\n",
              "    </div>\n",
              "  </div>\n",
              "  "
            ]
          },
          "metadata": {},
          "execution_count": 11
        }
      ]
    },
    {
      "cell_type": "markdown",
      "source": [
        "### 3. Cek apakah ada nilai yang hilang dari dataset menggunakan fungsi isnull()\n"
      ],
      "metadata": {
        "id": "5U_mmHaC7vxx"
      }
    },
    {
      "cell_type": "code",
      "source": [
        "data_train.isnull().sum()"
      ],
      "metadata": {
        "colab": {
          "base_uri": "https://localhost:8080/"
        },
        "id": "UU9eZxqs3Dmg",
        "outputId": "ea7ca4b7-39f2-4de9-dd6c-5cce402d36bd"
      },
      "execution_count": 12,
      "outputs": [
        {
          "output_type": "execute_result",
          "data": {
            "text/plain": [
              "Date                          0\n",
              "TempHighF                     0\n",
              "TempAvgF                      0\n",
              "TempLowF                      0\n",
              "DewPointHighF                 0\n",
              "DewPointAvgF                  0\n",
              "DewPointLowF                  0\n",
              "HumidityHighPercent           0\n",
              "HumidityAvgPercent            0\n",
              "HumidityLowPercent            0\n",
              "SeaLevelPressureHighInches    0\n",
              "SeaLevelPressureAvgInches     0\n",
              "SeaLevelPressureLowInches     0\n",
              "VisibilityHighMiles           0\n",
              "VisibilityAvgMiles            0\n",
              "VisibilityLowMiles            0\n",
              "WindHighMPH                   0\n",
              "WindAvgMPH                    0\n",
              "WindGustMPH                   0\n",
              "PrecipitationSumInches        0\n",
              "Events                        0\n",
              "dtype: int64"
            ]
          },
          "metadata": {},
          "execution_count": 12
        }
      ]
    },
    {
      "cell_type": "markdown",
      "source": [
        "### 4. Pastikan dataset memiliki lebih dari 1000 sampel data"
      ],
      "metadata": {
        "id": "I8u6J8xg78qU"
      }
    },
    {
      "cell_type": "code",
      "source": [
        "data_train.tail()"
      ],
      "metadata": {
        "colab": {
          "base_uri": "https://localhost:8080/",
          "height": 386
        },
        "id": "bgHSyfPA3JkS",
        "outputId": "37bae12b-fcdd-4c22-a4d2-d8e6289c3ab0"
      },
      "execution_count": 13,
      "outputs": [
        {
          "output_type": "execute_result",
          "data": {
            "text/plain": [
              "            Date  TempHighF  TempAvgF  TempLowF DewPointHighF DewPointAvgF  \\\n",
              "1314  2017-07-27        103        89        75            71           67   \n",
              "1315  2017-07-28        105        91        76            71           64   \n",
              "1316  2017-07-29        107        92        77            72           64   \n",
              "1317  2017-07-30        106        93        79            70           68   \n",
              "1318  2017-07-31         99        88        77            66           61   \n",
              "\n",
              "     DewPointLowF HumidityHighPercent HumidityAvgPercent HumidityLowPercent  \\\n",
              "1314           61                  82                 54                 25   \n",
              "1315           55                  87                 54                 20   \n",
              "1316           55                  82                 51                 19   \n",
              "1317           63                  69                 48                 27   \n",
              "1318           54                  64                 43                 22   \n",
              "\n",
              "      ... SeaLevelPressureAvgInches SeaLevelPressureLowInches  \\\n",
              "1314  ...                     29.97                     29.88   \n",
              "1315  ...                      29.9                     29.81   \n",
              "1316  ...                     29.86                     29.79   \n",
              "1317  ...                     29.91                     29.87   \n",
              "1318  ...                     29.97                     29.91   \n",
              "\n",
              "     VisibilityHighMiles VisibilityAvgMiles VisibilityLowMiles WindHighMPH  \\\n",
              "1314                  10                 10                 10          12   \n",
              "1315                  10                 10                 10          14   \n",
              "1316                  10                 10                 10          12   \n",
              "1317                  10                 10                 10          13   \n",
              "1318                  10                 10                 10          12   \n",
              "\n",
              "     WindAvgMPH WindGustMPH PrecipitationSumInches Events  \n",
              "1314          5          21                      0         \n",
              "1315          5          20                      0         \n",
              "1316          4          17                      0         \n",
              "1317          4          20                      0         \n",
              "1318          4          20                      0         \n",
              "\n",
              "[5 rows x 21 columns]"
            ],
            "text/html": [
              "\n",
              "  <div id=\"df-855123cd-7ddf-493c-b661-11dd07042ff9\">\n",
              "    <div class=\"colab-df-container\">\n",
              "      <div>\n",
              "<style scoped>\n",
              "    .dataframe tbody tr th:only-of-type {\n",
              "        vertical-align: middle;\n",
              "    }\n",
              "\n",
              "    .dataframe tbody tr th {\n",
              "        vertical-align: top;\n",
              "    }\n",
              "\n",
              "    .dataframe thead th {\n",
              "        text-align: right;\n",
              "    }\n",
              "</style>\n",
              "<table border=\"1\" class=\"dataframe\">\n",
              "  <thead>\n",
              "    <tr style=\"text-align: right;\">\n",
              "      <th></th>\n",
              "      <th>Date</th>\n",
              "      <th>TempHighF</th>\n",
              "      <th>TempAvgF</th>\n",
              "      <th>TempLowF</th>\n",
              "      <th>DewPointHighF</th>\n",
              "      <th>DewPointAvgF</th>\n",
              "      <th>DewPointLowF</th>\n",
              "      <th>HumidityHighPercent</th>\n",
              "      <th>HumidityAvgPercent</th>\n",
              "      <th>HumidityLowPercent</th>\n",
              "      <th>...</th>\n",
              "      <th>SeaLevelPressureAvgInches</th>\n",
              "      <th>SeaLevelPressureLowInches</th>\n",
              "      <th>VisibilityHighMiles</th>\n",
              "      <th>VisibilityAvgMiles</th>\n",
              "      <th>VisibilityLowMiles</th>\n",
              "      <th>WindHighMPH</th>\n",
              "      <th>WindAvgMPH</th>\n",
              "      <th>WindGustMPH</th>\n",
              "      <th>PrecipitationSumInches</th>\n",
              "      <th>Events</th>\n",
              "    </tr>\n",
              "  </thead>\n",
              "  <tbody>\n",
              "    <tr>\n",
              "      <th>1314</th>\n",
              "      <td>2017-07-27</td>\n",
              "      <td>103</td>\n",
              "      <td>89</td>\n",
              "      <td>75</td>\n",
              "      <td>71</td>\n",
              "      <td>67</td>\n",
              "      <td>61</td>\n",
              "      <td>82</td>\n",
              "      <td>54</td>\n",
              "      <td>25</td>\n",
              "      <td>...</td>\n",
              "      <td>29.97</td>\n",
              "      <td>29.88</td>\n",
              "      <td>10</td>\n",
              "      <td>10</td>\n",
              "      <td>10</td>\n",
              "      <td>12</td>\n",
              "      <td>5</td>\n",
              "      <td>21</td>\n",
              "      <td>0</td>\n",
              "      <td></td>\n",
              "    </tr>\n",
              "    <tr>\n",
              "      <th>1315</th>\n",
              "      <td>2017-07-28</td>\n",
              "      <td>105</td>\n",
              "      <td>91</td>\n",
              "      <td>76</td>\n",
              "      <td>71</td>\n",
              "      <td>64</td>\n",
              "      <td>55</td>\n",
              "      <td>87</td>\n",
              "      <td>54</td>\n",
              "      <td>20</td>\n",
              "      <td>...</td>\n",
              "      <td>29.9</td>\n",
              "      <td>29.81</td>\n",
              "      <td>10</td>\n",
              "      <td>10</td>\n",
              "      <td>10</td>\n",
              "      <td>14</td>\n",
              "      <td>5</td>\n",
              "      <td>20</td>\n",
              "      <td>0</td>\n",
              "      <td></td>\n",
              "    </tr>\n",
              "    <tr>\n",
              "      <th>1316</th>\n",
              "      <td>2017-07-29</td>\n",
              "      <td>107</td>\n",
              "      <td>92</td>\n",
              "      <td>77</td>\n",
              "      <td>72</td>\n",
              "      <td>64</td>\n",
              "      <td>55</td>\n",
              "      <td>82</td>\n",
              "      <td>51</td>\n",
              "      <td>19</td>\n",
              "      <td>...</td>\n",
              "      <td>29.86</td>\n",
              "      <td>29.79</td>\n",
              "      <td>10</td>\n",
              "      <td>10</td>\n",
              "      <td>10</td>\n",
              "      <td>12</td>\n",
              "      <td>4</td>\n",
              "      <td>17</td>\n",
              "      <td>0</td>\n",
              "      <td></td>\n",
              "    </tr>\n",
              "    <tr>\n",
              "      <th>1317</th>\n",
              "      <td>2017-07-30</td>\n",
              "      <td>106</td>\n",
              "      <td>93</td>\n",
              "      <td>79</td>\n",
              "      <td>70</td>\n",
              "      <td>68</td>\n",
              "      <td>63</td>\n",
              "      <td>69</td>\n",
              "      <td>48</td>\n",
              "      <td>27</td>\n",
              "      <td>...</td>\n",
              "      <td>29.91</td>\n",
              "      <td>29.87</td>\n",
              "      <td>10</td>\n",
              "      <td>10</td>\n",
              "      <td>10</td>\n",
              "      <td>13</td>\n",
              "      <td>4</td>\n",
              "      <td>20</td>\n",
              "      <td>0</td>\n",
              "      <td></td>\n",
              "    </tr>\n",
              "    <tr>\n",
              "      <th>1318</th>\n",
              "      <td>2017-07-31</td>\n",
              "      <td>99</td>\n",
              "      <td>88</td>\n",
              "      <td>77</td>\n",
              "      <td>66</td>\n",
              "      <td>61</td>\n",
              "      <td>54</td>\n",
              "      <td>64</td>\n",
              "      <td>43</td>\n",
              "      <td>22</td>\n",
              "      <td>...</td>\n",
              "      <td>29.97</td>\n",
              "      <td>29.91</td>\n",
              "      <td>10</td>\n",
              "      <td>10</td>\n",
              "      <td>10</td>\n",
              "      <td>12</td>\n",
              "      <td>4</td>\n",
              "      <td>20</td>\n",
              "      <td>0</td>\n",
              "      <td></td>\n",
              "    </tr>\n",
              "  </tbody>\n",
              "</table>\n",
              "<p>5 rows × 21 columns</p>\n",
              "</div>\n",
              "      <button class=\"colab-df-convert\" onclick=\"convertToInteractive('df-855123cd-7ddf-493c-b661-11dd07042ff9')\"\n",
              "              title=\"Convert this dataframe to an interactive table.\"\n",
              "              style=\"display:none;\">\n",
              "        \n",
              "  <svg xmlns=\"http://www.w3.org/2000/svg\" height=\"24px\"viewBox=\"0 0 24 24\"\n",
              "       width=\"24px\">\n",
              "    <path d=\"M0 0h24v24H0V0z\" fill=\"none\"/>\n",
              "    <path d=\"M18.56 5.44l.94 2.06.94-2.06 2.06-.94-2.06-.94-.94-2.06-.94 2.06-2.06.94zm-11 1L8.5 8.5l.94-2.06 2.06-.94-2.06-.94L8.5 2.5l-.94 2.06-2.06.94zm10 10l.94 2.06.94-2.06 2.06-.94-2.06-.94-.94-2.06-.94 2.06-2.06.94z\"/><path d=\"M17.41 7.96l-1.37-1.37c-.4-.4-.92-.59-1.43-.59-.52 0-1.04.2-1.43.59L10.3 9.45l-7.72 7.72c-.78.78-.78 2.05 0 2.83L4 21.41c.39.39.9.59 1.41.59.51 0 1.02-.2 1.41-.59l7.78-7.78 2.81-2.81c.8-.78.8-2.07 0-2.86zM5.41 20L4 18.59l7.72-7.72 1.47 1.35L5.41 20z\"/>\n",
              "  </svg>\n",
              "      </button>\n",
              "      \n",
              "  <style>\n",
              "    .colab-df-container {\n",
              "      display:flex;\n",
              "      flex-wrap:wrap;\n",
              "      gap: 12px;\n",
              "    }\n",
              "\n",
              "    .colab-df-convert {\n",
              "      background-color: #E8F0FE;\n",
              "      border: none;\n",
              "      border-radius: 50%;\n",
              "      cursor: pointer;\n",
              "      display: none;\n",
              "      fill: #1967D2;\n",
              "      height: 32px;\n",
              "      padding: 0 0 0 0;\n",
              "      width: 32px;\n",
              "    }\n",
              "\n",
              "    .colab-df-convert:hover {\n",
              "      background-color: #E2EBFA;\n",
              "      box-shadow: 0px 1px 2px rgba(60, 64, 67, 0.3), 0px 1px 3px 1px rgba(60, 64, 67, 0.15);\n",
              "      fill: #174EA6;\n",
              "    }\n",
              "\n",
              "    [theme=dark] .colab-df-convert {\n",
              "      background-color: #3B4455;\n",
              "      fill: #D2E3FC;\n",
              "    }\n",
              "\n",
              "    [theme=dark] .colab-df-convert:hover {\n",
              "      background-color: #434B5C;\n",
              "      box-shadow: 0px 1px 3px 1px rgba(0, 0, 0, 0.15);\n",
              "      filter: drop-shadow(0px 1px 2px rgba(0, 0, 0, 0.3));\n",
              "      fill: #FFFFFF;\n",
              "    }\n",
              "  </style>\n",
              "\n",
              "      <script>\n",
              "        const buttonEl =\n",
              "          document.querySelector('#df-855123cd-7ddf-493c-b661-11dd07042ff9 button.colab-df-convert');\n",
              "        buttonEl.style.display =\n",
              "          google.colab.kernel.accessAllowed ? 'block' : 'none';\n",
              "\n",
              "        async function convertToInteractive(key) {\n",
              "          const element = document.querySelector('#df-855123cd-7ddf-493c-b661-11dd07042ff9');\n",
              "          const dataTable =\n",
              "            await google.colab.kernel.invokeFunction('convertToInteractive',\n",
              "                                                     [key], {});\n",
              "          if (!dataTable) return;\n",
              "\n",
              "          const docLinkHtml = 'Like what you see? Visit the ' +\n",
              "            '<a target=\"_blank\" href=https://colab.research.google.com/notebooks/data_table.ipynb>data table notebook</a>'\n",
              "            + ' to learn more about interactive tables.';\n",
              "          element.innerHTML = '';\n",
              "          dataTable['output_type'] = 'display_data';\n",
              "          await google.colab.output.renderOutput(dataTable, element);\n",
              "          const docLink = document.createElement('div');\n",
              "          docLink.innerHTML = docLinkHtml;\n",
              "          element.appendChild(docLink);\n",
              "        }\n",
              "      </script>\n",
              "    </div>\n",
              "  </div>\n",
              "  "
            ]
          },
          "metadata": {},
          "execution_count": 13
        }
      ]
    },
    {
      "cell_type": "markdown",
      "source": [
        "### 5. Buat plot dari data menggunakan fungsi plot dari library matplotlib"
      ],
      "metadata": {
        "id": "rPcxkbYA8fqw"
      }
    },
    {
      "cell_type": "code",
      "source": [
        "dates = data_train['Date'].values\n",
        "temp  = data_train['TempAvgF'].values\n",
        " \n",
        " \n",
        "plt.figure(figsize=(15,5))\n",
        "plt.plot(dates, temp)\n",
        "plt.title('Temperature average',\n",
        "          fontsize=20);\n"
      ],
      "metadata": {
        "colab": {
          "base_uri": "https://localhost:8080/",
          "height": 341
        },
        "id": "DxuiNLlG51y7",
        "outputId": "7af4e233-3889-4f44-c365-dcf63ae89161"
      },
      "execution_count": 14,
      "outputs": [
        {
          "output_type": "display_data",
          "data": {
            "text/plain": [
              "<Figure size 1080x360 with 1 Axes>"
            ],
            "image/png": "[encoded data removed]"
          },
          "metadata": {
            "needs_background": "light"
          }
        }
      ]
    },
    {
      "cell_type": "markdown",
      "source": [
        "### 6.  Lakukan pemisahan data menjadi data latih dan data testing"
      ],
      "metadata": {
        "id": "3n2hU-Z_8pII"
      }
    },
    {
      "cell_type": "code",
      "source": [
        "from sklearn.model_selection import train_test_split\n",
        "date_latih, date_test, temp_latih, temp_test = train_test_split(dates, temp, test_size=0.2, shuffle=False)"
      ],
      "metadata": {
        "id": "A-rEOkZaBucB"
      },
      "execution_count": 15,
      "outputs": []
    },
    {
      "cell_type": "markdown",
      "source": [
        "### 7. Inisiasi fungsi windowed dataset"
      ],
      "metadata": {
        "id": "vq8oru3s86T8"
      }
    },
    {
      "cell_type": "code",
      "source": [
        "def windowed_dataset(series, window_size, batch_size, shuffle_buffer):\n",
        "    series = tf.expand_dims(series, axis=-1)\n",
        "    ds = tf.data.Dataset.from_tensor_slices(series)\n",
        "    ds = ds.window(window_size + 1, shift=1, drop_remainder=True)\n",
        "    ds = ds.flat_map(lambda w: w.batch(window_size + 1))\n",
        "    ds = ds.shuffle(shuffle_buffer)\n",
        "    ds = ds.map(lambda w: (w[:-1], w[-1:]))\n",
        "    return ds.batch(batch_size).prefetch(1)"
      ],
      "metadata": {
        "id": "u5kaoEyy8KFo"
      },
      "execution_count": 16,
      "outputs": []
    },
    {
      "cell_type": "markdown",
      "source": [
        "### 8. Memanggil fungsi windowed dataset dan membangun model menggunakan model sequential"
      ],
      "metadata": {
        "id": "uTHqMHRu9E6P"
      }
    },
    {
      "cell_type": "code",
      "source": [
        "train_set = windowed_dataset(temp_latih, window_size=60, batch_size=100, shuffle_buffer=1000)\n",
        "test_set = windowed_dataset(temp_test, window_size=60, batch_size=100, shuffle_buffer=1000)\n",
        "model = tf.keras.models.Sequential([\n",
        "  tf.keras.layers.LSTM(30, return_sequences=True,  input_shape=[None, 1]),\n",
        "  tf.keras.layers.LSTM(30),\n",
        "  tf.keras.layers.Dense(30, activation=\"relu\"),\n",
        "  tf.keras.layers.Dense(10, activation=\"relu\"),\n",
        "  tf.keras.layers.Dense(1),\n",
        "])"
      ],
      "metadata": {
        "id": "pY_VrtrW8wJY"
      },
      "execution_count": 17,
      "outputs": []
    },
    {
      "cell_type": "markdown",
      "source": [
        "### 9. Menghitung nilai 10% MAE "
      ],
      "metadata": {
        "id": "X1iAAKxW9YiA"
      }
    },
    {
      "cell_type": "code",
      "source": [
        "minMae = (data_train['TempAvgF'].max() - data_train['TempAvgF'].min()) * 10/100\n",
        "print(minMae)\n"
      ],
      "metadata": {
        "colab": {
          "base_uri": "https://localhost:8080/"
        },
        "id": "pcNemkQm8zjk",
        "outputId": "fd309458-151a-494d-8c8c-c267c32bf733"
      },
      "execution_count": 18,
      "outputs": [
        {
          "output_type": "stream",
          "name": "stdout",
          "text": [
            "6.4\n"
          ]
        }
      ]
    },
    {
      "cell_type": "markdown",
      "source": [
        "### 10. Menerapkan Callback, training akan berhenti jika sudah menunjukkan <10%"
      ],
      "metadata": {
        "id": "nFv5qklN9k6m"
      }
    },
    {
      "cell_type": "code",
      "source": [
        "class myCallback(tf.keras.callbacks.Callback):\n",
        "  def on_epoch_end(self, epoch, logs={}):\n",
        "    if (logs.get('mae')<minMae) & (logs.get('val_mae')<minMae):\n",
        "      print('\\nMAE sudah mencapai <10%!')\n",
        "      self.model.stop_training = True\n",
        "\n",
        "callbacks = myCallback()"
      ],
      "metadata": {
        "id": "il4HN5t9-Ygs"
      },
      "execution_count": 19,
      "outputs": []
    },
    {
      "cell_type": "markdown",
      "source": [
        "### 11. Compile dan lakukan training pada model"
      ],
      "metadata": {
        "id": "vtR1GstB90kw"
      }
    },
    {
      "cell_type": "code",
      "source": [
        "optimizer = tf.keras.optimizers.SGD(learning_rate=1.000e-04, momentum=0.9)\n",
        "model.compile(\n",
        "    loss=tf.keras.losses.Huber(),\n",
        "    optimizer=optimizer,\n",
        "    metrics=['mae']\n",
        "    )\n",
        "history = model.fit(\n",
        "    train_set,\n",
        "    epochs=200,\n",
        "    validation_data=test_set,\n",
        "    verbose=2,\n",
        "    callbacks=[callbacks],\n",
        "    )"
      ],
      "metadata": {
        "id": "4hEuK1SmENSc",
        "colab": {
          "base_uri": "https://localhost:8080/"
        },
        "outputId": "5a040c19-9327-4b1e-caea-8a970ffb1158"
      },
      "execution_count": 20,
      "outputs": [
        {
          "output_type": "stream",
          "name": "stdout",
          "text": [
            "Epoch 1/200\n",
            "10/10 - 5s - loss: 71.3605 - mae: 71.8605 - val_loss: 73.7121 - val_mae: 74.2121 - 5s/epoch - 546ms/step\n",
            "Epoch 2/200\n",
            "10/10 - 1s - loss: 71.2915 - mae: 71.7915 - val_loss: 73.6150 - val_mae: 74.1150 - 835ms/epoch - 84ms/step\n",
            "Epoch 3/200\n",
            "10/10 - 1s - loss: 71.1842 - mae: 71.6842 - val_loss: 73.4944 - val_mae: 73.9944 - 826ms/epoch - 83ms/step\n",
            "Epoch 4/200\n",
            "10/10 - 1s - loss: 71.0777 - mae: 71.5777 - val_loss: 73.4282 - val_mae: 73.9282 - 818ms/epoch - 82ms/step\n",
            "Epoch 5/200\n",
            "10/10 - 1s - loss: 71.0217 - mae: 71.5217 - val_loss: 73.3781 - val_mae: 73.8781 - 841ms/epoch - 84ms/step\n",
            "Epoch 6/200\n",
            "10/10 - 1s - loss: 70.9705 - mae: 71.4705 - val_loss: 73.3256 - val_mae: 73.8256 - 821ms/epoch - 82ms/step\n",
            "Epoch 7/200\n",
            "10/10 - 1s - loss: 70.9171 - mae: 71.4171 - val_loss: 73.2712 - val_mae: 73.7712 - 818ms/epoch - 82ms/step\n",
            "Epoch 8/200\n",
            "10/10 - 1s - loss: 70.8618 - mae: 71.3618 - val_loss: 73.2146 - val_mae: 73.7146 - 812ms/epoch - 81ms/step\n",
            "Epoch 9/200\n",
            "10/10 - 1s - loss: 70.8040 - mae: 71.3040 - val_loss: 73.1555 - val_mae: 73.6555 - 799ms/epoch - 80ms/step\n",
            "Epoch 10/200\n",
            "10/10 - 1s - loss: 70.7437 - mae: 71.2437 - val_loss: 73.0937 - val_mae: 73.5937 - 1s/epoch - 104ms/step\n",
            "Epoch 11/200\n",
            "10/10 - 1s - loss: 70.6809 - mae: 71.1809 - val_loss: 73.0293 - val_mae: 73.5293 - 1s/epoch - 137ms/step\n",
            "Epoch 12/200\n",
            "10/10 - 1s - loss: 70.6152 - mae: 71.1152 - val_loss: 72.9618 - val_mae: 73.4618 - 966ms/epoch - 97ms/step\n",
            "Epoch 13/200\n",
            "10/10 - 1s - loss: 70.5461 - mae: 71.0461 - val_loss: 72.8911 - val_mae: 73.3911 - 797ms/epoch - 80ms/step\n",
            "Epoch 14/200\n",
            "10/10 - 1s - loss: 70.4747 - mae: 70.9747 - val_loss: 72.8183 - val_mae: 73.3183 - 803ms/epoch - 80ms/step\n",
            "Epoch 15/200\n",
            "10/10 - 1s - loss: 70.3999 - mae: 70.8999 - val_loss: 72.7411 - val_mae: 73.2411 - 827ms/epoch - 83ms/step\n",
            "Epoch 16/200\n",
            "10/10 - 1s - loss: 70.3206 - mae: 70.8206 - val_loss: 72.6591 - val_mae: 73.1591 - 806ms/epoch - 81ms/step\n",
            "Epoch 17/200\n",
            "10/10 - 1s - loss: 70.2362 - mae: 70.7362 - val_loss: 72.5717 - val_mae: 73.0717 - 815ms/epoch - 81ms/step\n",
            "Epoch 18/200\n",
            "10/10 - 1s - loss: 70.1464 - mae: 70.6464 - val_loss: 72.4788 - val_mae: 72.9788 - 790ms/epoch - 79ms/step\n",
            "Epoch 19/200\n",
            "10/10 - 1s - loss: 70.0506 - mae: 70.5506 - val_loss: 72.3792 - val_mae: 72.8792 - 802ms/epoch - 80ms/step\n",
            "Epoch 20/200\n",
            "10/10 - 1s - loss: 69.9476 - mae: 70.4476 - val_loss: 72.2719 - val_mae: 72.7719 - 807ms/epoch - 81ms/step\n",
            "Epoch 21/200\n",
            "10/10 - 1s - loss: 69.8365 - mae: 70.3365 - val_loss: 72.1558 - val_mae: 72.6558 - 840ms/epoch - 84ms/step\n",
            "Epoch 22/200\n",
            "10/10 - 1s - loss: 69.7162 - mae: 70.2162 - val_loss: 72.0302 - val_mae: 72.5302 - 835ms/epoch - 84ms/step\n",
            "Epoch 23/200\n",
            "10/10 - 1s - loss: 69.5861 - mae: 70.0861 - val_loss: 71.8943 - val_mae: 72.3943 - 828ms/epoch - 83ms/step\n",
            "Epoch 24/200\n",
            "10/10 - 1s - loss: 69.4450 - mae: 69.9450 - val_loss: 71.7464 - val_mae: 72.2464 - 847ms/epoch - 85ms/step\n",
            "Epoch 25/200\n",
            "10/10 - 1s - loss: 69.2914 - mae: 69.7914 - val_loss: 71.5851 - val_mae: 72.0851 - 825ms/epoch - 83ms/step\n",
            "Epoch 26/200\n",
            "10/10 - 1s - loss: 69.1234 - mae: 69.6234 - val_loss: 71.4085 - val_mae: 71.9085 - 815ms/epoch - 81ms/step\n",
            "Epoch 27/200\n",
            "10/10 - 1s - loss: 68.9391 - mae: 69.4391 - val_loss: 71.2142 - val_mae: 71.7142 - 837ms/epoch - 84ms/step\n",
            "Epoch 28/200\n",
            "10/10 - 1s - loss: 68.7360 - mae: 69.2360 - val_loss: 70.9996 - val_mae: 71.4996 - 831ms/epoch - 83ms/step\n",
            "Epoch 29/200\n",
            "10/10 - 1s - loss: 68.5113 - mae: 69.0113 - val_loss: 70.7618 - val_mae: 71.2618 - 844ms/epoch - 84ms/step\n",
            "Epoch 30/200\n",
            "10/10 - 1s - loss: 68.2618 - mae: 68.7618 - val_loss: 70.4969 - val_mae: 70.9969 - 837ms/epoch - 84ms/step\n",
            "Epoch 31/200\n",
            "10/10 - 1s - loss: 67.9834 - mae: 68.4834 - val_loss: 70.2008 - val_mae: 70.7008 - 829ms/epoch - 83ms/step\n",
            "Epoch 32/200\n",
            "10/10 - 1s - loss: 67.6715 - mae: 68.1715 - val_loss: 69.8683 - val_mae: 70.3683 - 819ms/epoch - 82ms/step\n",
            "Epoch 33/200\n",
            "10/10 - 1s - loss: 67.3208 - mae: 67.8208 - val_loss: 69.4935 - val_mae: 69.9935 - 845ms/epoch - 85ms/step\n",
            "Epoch 34/200\n",
            "10/10 - 1s - loss: 66.9244 - mae: 67.4244 - val_loss: 69.0688 - val_mae: 69.5688 - 826ms/epoch - 83ms/step\n",
            "Epoch 35/200\n",
            "10/10 - 1s - loss: 66.4742 - mae: 66.9742 - val_loss: 68.5852 - val_mae: 69.0852 - 803ms/epoch - 80ms/step\n",
            "Epoch 36/200\n",
            "10/10 - 1s - loss: 65.9604 - mae: 66.4604 - val_loss: 68.0316 - val_mae: 68.5316 - 820ms/epoch - 82ms/step\n",
            "Epoch 37/200\n",
            "10/10 - 1s - loss: 65.3706 - mae: 65.8706 - val_loss: 67.3939 - val_mae: 67.8939 - 801ms/epoch - 80ms/step\n",
            "Epoch 38/200\n",
            "10/10 - 1s - loss: 64.6889 - mae: 65.1889 - val_loss: 66.6538 - val_mae: 67.1538 - 803ms/epoch - 80ms/step\n",
            "Epoch 39/200\n",
            "10/10 - 1s - loss: 63.8947 - mae: 64.3947 - val_loss: 65.7873 - val_mae: 66.2873 - 812ms/epoch - 81ms/step\n",
            "Epoch 40/200\n",
            "10/10 - 1s - loss: 62.9605 - mae: 63.4605 - val_loss: 64.7621 - val_mae: 65.2621 - 797ms/epoch - 80ms/step\n",
            "Epoch 41/200\n",
            "10/10 - 1s - loss: 61.8520 - mae: 62.3520 - val_loss: 63.5442 - val_mae: 64.0442 - 807ms/epoch - 81ms/step\n",
            "Epoch 42/200\n",
            "10/10 - 1s - loss: 60.5367 - mae: 61.0367 - val_loss: 62.0971 - val_mae: 62.5971 - 802ms/epoch - 80ms/step\n",
            "Epoch 43/200\n",
            "10/10 - 1s - loss: 58.9615 - mae: 59.4615 - val_loss: 60.3484 - val_mae: 60.8484 - 813ms/epoch - 81ms/step\n",
            "Epoch 44/200\n",
            "10/10 - 1s - loss: 57.0463 - mae: 57.5463 - val_loss: 58.2074 - val_mae: 58.7074 - 816ms/epoch - 82ms/step\n",
            "Epoch 45/200\n",
            "10/10 - 1s - loss: 54.6861 - mae: 55.1861 - val_loss: 55.5488 - val_mae: 56.0488 - 805ms/epoch - 81ms/step\n",
            "Epoch 46/200\n",
            "10/10 - 1s - loss: 51.7344 - mae: 52.2344 - val_loss: 52.1938 - val_mae: 52.6938 - 814ms/epoch - 81ms/step\n",
            "Epoch 47/200\n",
            "10/10 - 1s - loss: 47.9772 - mae: 48.4772 - val_loss: 47.8744 - val_mae: 48.3744 - 831ms/epoch - 83ms/step\n",
            "Epoch 48/200\n",
            "10/10 - 1s - loss: 43.0814 - mae: 43.5814 - val_loss: 42.1373 - val_mae: 42.6373 - 809ms/epoch - 81ms/step\n",
            "Epoch 49/200\n",
            "10/10 - 1s - loss: 36.5345 - mae: 37.0338 - val_loss: 34.5010 - val_mae: 35.0010 - 862ms/epoch - 86ms/step\n",
            "Epoch 50/200\n",
            "10/10 - 1s - loss: 28.1392 - mae: 28.6366 - val_loss: 24.4351 - val_mae: 24.9323 - 850ms/epoch - 85ms/step\n",
            "Epoch 51/200\n",
            "10/10 - 1s - loss: 18.7071 - mae: 19.2015 - val_loss: 13.9313 - val_mae: 14.4262 - 833ms/epoch - 83ms/step\n",
            "Epoch 52/200\n",
            "10/10 - 1s - loss: 12.1419 - mae: 12.6362 - val_loss: 8.5823 - val_mae: 9.0728 - 830ms/epoch - 83ms/step\n",
            "Epoch 53/200\n",
            "10/10 - 1s - loss: 10.6778 - mae: 11.1688 - val_loss: 8.9173 - val_mae: 9.3993 - 817ms/epoch - 82ms/step\n",
            "Epoch 54/200\n",
            "10/10 - 1s - loss: 10.7893 - mae: 11.2785 - val_loss: 8.6291 - val_mae: 9.1202 - 826ms/epoch - 83ms/step\n",
            "Epoch 55/200\n",
            "10/10 - 1s - loss: 10.5833 - mae: 11.0731 - val_loss: 8.4704 - val_mae: 8.9567 - 833ms/epoch - 83ms/step\n",
            "Epoch 56/200\n",
            "10/10 - 1s - loss: 10.5111 - mae: 11.0007 - val_loss: 8.4973 - val_mae: 8.9816 - 822ms/epoch - 82ms/step\n",
            "Epoch 57/200\n",
            "10/10 - 1s - loss: 10.5096 - mae: 10.9985 - val_loss: 8.4633 - val_mae: 8.9495 - 832ms/epoch - 83ms/step\n",
            "Epoch 58/200\n",
            "10/10 - 1s - loss: 10.4990 - mae: 10.9929 - val_loss: 8.4487 - val_mae: 8.9296 - 828ms/epoch - 83ms/step\n",
            "Epoch 59/200\n",
            "10/10 - 1s - loss: 10.4840 - mae: 10.9772 - val_loss: 8.4422 - val_mae: 8.9269 - 814ms/epoch - 81ms/step\n",
            "Epoch 60/200\n",
            "10/10 - 1s - loss: 10.4737 - mae: 10.9673 - val_loss: 8.4338 - val_mae: 8.9188 - 851ms/epoch - 85ms/step\n",
            "Epoch 61/200\n",
            "10/10 - 1s - loss: 10.4632 - mae: 10.9566 - val_loss: 8.4267 - val_mae: 8.9133 - 829ms/epoch - 83ms/step\n",
            "Epoch 62/200\n",
            "10/10 - 1s - loss: 10.4392 - mae: 10.9328 - val_loss: 8.4088 - val_mae: 8.8951 - 843ms/epoch - 84ms/step\n",
            "Epoch 63/200\n",
            "10/10 - 1s - loss: 10.4164 - mae: 10.9103 - val_loss: 8.3842 - val_mae: 8.8676 - 855ms/epoch - 85ms/step\n",
            "Epoch 64/200\n",
            "10/10 - 1s - loss: 10.3892 - mae: 10.8824 - val_loss: 8.3611 - val_mae: 8.8464 - 823ms/epoch - 82ms/step\n",
            "Epoch 65/200\n",
            "10/10 - 1s - loss: 10.3454 - mae: 10.8387 - val_loss: 8.3227 - val_mae: 8.8069 - 827ms/epoch - 83ms/step\n",
            "Epoch 66/200\n",
            "10/10 - 1s - loss: 10.2955 - mae: 10.7870 - val_loss: 8.2626 - val_mae: 8.7458 - 836ms/epoch - 84ms/step\n",
            "Epoch 67/200\n",
            "10/10 - 1s - loss: 10.2246 - mae: 10.7168 - val_loss: 8.2179 - val_mae: 8.7011 - 831ms/epoch - 83ms/step\n",
            "Epoch 68/200\n",
            "10/10 - 1s - loss: 10.1734 - mae: 10.6642 - val_loss: 8.1697 - val_mae: 8.6528 - 818ms/epoch - 82ms/step\n",
            "Epoch 69/200\n",
            "10/10 - 1s - loss: 10.1206 - mae: 10.6120 - val_loss: 8.1169 - val_mae: 8.5984 - 807ms/epoch - 81ms/step\n",
            "Epoch 70/200\n",
            "10/10 - 1s - loss: 10.0676 - mae: 10.5583 - val_loss: 8.0969 - val_mae: 8.5841 - 838ms/epoch - 84ms/step\n",
            "Epoch 71/200\n",
            "10/10 - 1s - loss: 9.9979 - mae: 10.4889 - val_loss: 7.9976 - val_mae: 8.4796 - 814ms/epoch - 81ms/step\n",
            "Epoch 72/200\n",
            "10/10 - 1s - loss: 9.9038 - mae: 10.3950 - val_loss: 7.9313 - val_mae: 8.4193 - 808ms/epoch - 81ms/step\n",
            "Epoch 73/200\n",
            "10/10 - 1s - loss: 9.7619 - mae: 10.2525 - val_loss: 7.7580 - val_mae: 8.2445 - 828ms/epoch - 83ms/step\n",
            "Epoch 74/200\n",
            "10/10 - 1s - loss: 9.5356 - mae: 10.0253 - val_loss: 7.6418 - val_mae: 8.1355 - 820ms/epoch - 82ms/step\n",
            "Epoch 75/200\n",
            "10/10 - 1s - loss: 9.2990 - mae: 9.7911 - val_loss: 7.3794 - val_mae: 7.8714 - 820ms/epoch - 82ms/step\n",
            "Epoch 76/200\n",
            "10/10 - 1s - loss: 8.9561 - mae: 9.4459 - val_loss: 7.0012 - val_mae: 7.4865 - 798ms/epoch - 80ms/step\n",
            "Epoch 77/200\n",
            "10/10 - 1s - loss: 8.5437 - mae: 9.0350 - val_loss: 6.6684 - val_mae: 7.1575 - 810ms/epoch - 81ms/step\n",
            "Epoch 78/200\n",
            "10/10 - 1s - loss: 8.0669 - mae: 8.5586 - val_loss: 6.1668 - val_mae: 6.6568 - 826ms/epoch - 83ms/step\n",
            "Epoch 79/200\n",
            "10/10 - 1s - loss: 7.3189 - mae: 7.8066 - val_loss: 6.1564 - val_mae: 6.6473 - 828ms/epoch - 83ms/step\n",
            "Epoch 80/200\n",
            "10/10 - 1s - loss: 6.7481 - mae: 7.2340 - val_loss: 4.7447 - val_mae: 5.2242 - 807ms/epoch - 81ms/step\n",
            "Epoch 81/200\n",
            "10/10 - 1s - loss: 6.9937 - mae: 7.4755 - val_loss: 7.3130 - val_mae: 7.8015 - 804ms/epoch - 80ms/step\n",
            "Epoch 82/200\n",
            "10/10 - 1s - loss: 7.9120 - mae: 8.3989 - val_loss: 14.3459 - val_mae: 14.8436 - 821ms/epoch - 82ms/step\n",
            "Epoch 83/200\n",
            "10/10 - 1s - loss: 8.8161 - mae: 9.3037 - val_loss: 5.1633 - val_mae: 5.6416 - 816ms/epoch - 82ms/step\n",
            "Epoch 84/200\n",
            "10/10 - 1s - loss: 7.4115 - mae: 7.8968 - val_loss: 4.9156 - val_mae: 5.3931 - 827ms/epoch - 83ms/step\n",
            "Epoch 85/200\n",
            "10/10 - 1s - loss: 6.6341 - mae: 7.1201 - val_loss: 4.8205 - val_mae: 5.3045 - 807ms/epoch - 81ms/step\n",
            "Epoch 86/200\n",
            "10/10 - 1s - loss: 6.2230 - mae: 6.7058 - val_loss: 6.1171 - val_mae: 6.6076 - 805ms/epoch - 81ms/step\n",
            "Epoch 87/200\n",
            "10/10 - 1s - loss: 6.6003 - mae: 7.0857 - val_loss: 6.0134 - val_mae: 6.5043 - 823ms/epoch - 82ms/step\n",
            "Epoch 88/200\n",
            "10/10 - 1s - loss: 7.3023 - mae: 7.7896 - val_loss: 8.0407 - val_mae: 8.5322 - 804ms/epoch - 80ms/step\n",
            "Epoch 89/200\n",
            "10/10 - 1s - loss: 7.0340 - mae: 7.5179 - val_loss: 4.7909 - val_mae: 5.2791 - 803ms/epoch - 80ms/step\n",
            "Epoch 90/200\n",
            "10/10 - 1s - loss: 6.6674 - mae: 7.1505 - val_loss: 5.2236 - val_mae: 5.7101 - 798ms/epoch - 80ms/step\n",
            "Epoch 91/200\n",
            "10/10 - 1s - loss: 6.4935 - mae: 6.9762 - val_loss: 5.9744 - val_mae: 6.4640 - 813ms/epoch - 81ms/step\n",
            "Epoch 92/200\n",
            "10/10 - 1s - loss: 7.8773 - mae: 8.3646 - val_loss: 7.3546 - val_mae: 7.8412 - 833ms/epoch - 83ms/step\n",
            "Epoch 93/200\n",
            "10/10 - 1s - loss: 7.7271 - mae: 8.2146 - val_loss: 5.7737 - val_mae: 6.2594 - 831ms/epoch - 83ms/step\n",
            "Epoch 94/200\n",
            "10/10 - 1s - loss: 6.6312 - mae: 7.1151 - val_loss: 4.4467 - val_mae: 4.9180 - 824ms/epoch - 82ms/step\n",
            "Epoch 95/200\n",
            "10/10 - 1s - loss: 6.7814 - mae: 7.2635 - val_loss: 4.9996 - val_mae: 5.4825 - 863ms/epoch - 86ms/step\n",
            "Epoch 96/200\n",
            "10/10 - 1s - loss: 6.7542 - mae: 7.2395 - val_loss: 5.7843 - val_mae: 6.2701 - 836ms/epoch - 84ms/step\n",
            "Epoch 97/200\n",
            "10/10 - 1s - loss: 6.8387 - mae: 7.3242 - val_loss: 5.2076 - val_mae: 5.6821 - 849ms/epoch - 85ms/step\n",
            "Epoch 98/200\n",
            "10/10 - 1s - loss: 7.2194 - mae: 7.7032 - val_loss: 5.8516 - val_mae: 6.3413 - 831ms/epoch - 83ms/step\n",
            "Epoch 99/200\n",
            "10/10 - 1s - loss: 6.7248 - mae: 7.2092 - val_loss: 7.8070 - val_mae: 8.3058 - 819ms/epoch - 82ms/step\n",
            "Epoch 100/200\n",
            "10/10 - 1s - loss: 6.8595 - mae: 7.3447 - val_loss: 5.6668 - val_mae: 6.1543 - 822ms/epoch - 82ms/step\n",
            "Epoch 101/200\n",
            "10/10 - 1s - loss: 7.1389 - mae: 7.6274 - val_loss: 6.0850 - val_mae: 6.5789 - 833ms/epoch - 83ms/step\n",
            "Epoch 102/200\n",
            "10/10 - 1s - loss: 6.4259 - mae: 6.9115 - val_loss: 5.4595 - val_mae: 5.9466 - 835ms/epoch - 84ms/step\n",
            "Epoch 103/200\n",
            "\n",
            "MAE sudah mencapai <10%!\n",
            "10/10 - 1s - loss: 5.9107 - mae: 6.3892 - val_loss: 4.5612 - val_mae: 5.0385 - 820ms/epoch - 82ms/step\n"
          ]
        }
      ]
    },
    {
      "cell_type": "markdown",
      "source": [
        "### 12. Membuat plot loss dan akurasi pada saat training dan validation"
      ],
      "metadata": {
        "id": "4bR8Cu3p-Mz9"
      }
    },
    {
      "cell_type": "code",
      "source": [
        "mae = history.history['mae']\n",
        "val_mae = history.history['val_mae']\n",
        "loss = history.history['loss']\n",
        "val_loss = history.history['val_loss']\n",
        "\n",
        "epochs = range(1, len(mae) + 1)\n",
        "\n",
        "plt.plot(epochs, mae, 'bo', label='Training MAE')\n",
        "plt.plot(epochs, val_mae, 'b', label='Validation MAE')\n",
        "plt.title('Training & Validation MAE')\n",
        "plt.legend()\n",
        "plt.figure()\n",
        "plt.show()\n",
        "\n",
        "plt.plot(epochs, loss, 'bo', label='Training loss')\n",
        "plt.plot(epochs, val_loss, 'b', label='Validation loss')\n",
        "plt.title('Training & Validation Loss')\n",
        "plt.legend()\n",
        "plt.figure()\n",
        "plt.show()"
      ],
      "metadata": {
        "id": "YLph-HO3FeHW",
        "colab": {
          "base_uri": "https://localhost:8080/",
          "height": 580
        },
        "outputId": "bfbb987d-6bdc-412e-def3-75067b87a0a9"
      },
      "execution_count": 23,
      "outputs": [
        {
          "output_type": "display_data",
          "data": {
            "text/plain": [
              "<Figure size 432x288 with 1 Axes>"
            ],
            "image/png": "[encoded data removed]"
          },
          "metadata": {
            "needs_background": "light"
          }
        },
        {
          "output_type": "display_data",
          "data": {
            "text/plain": [
              "<Figure size 432x288 with 0 Axes>"
            ]
          },
          "metadata": {}
        },
        {
          "output_type": "display_data",
          "data": {
            "text/plain": [
              "<Figure size 432x288 with 1 Axes>"
            ],
            "image/png": "[encoded data removed]"
          },
          "metadata": {
            "needs_background": "light"
          }
        },
        {
          "output_type": "display_data",
          "data": {
            "text/plain": [
              "<Figure size 432x288 with 0 Axes>"
            ]
          },
          "metadata": {}
        }
      ]
    },
    {
      "cell_type": "markdown",
      "source": [
        "## **Terimakasih.**\n",
        "\n",
        "## **Submission project kelas Belajar Pengembangan Machine Learning - 2022** "
      ],
      "metadata": {
        "id": "6v4QJp7A-nsW"
      }
    }
  ]
}